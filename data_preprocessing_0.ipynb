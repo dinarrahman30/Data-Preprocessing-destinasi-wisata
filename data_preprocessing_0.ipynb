{
 "cells": [
  {
   "cell_type": "code",
   "execution_count": 3,
   "metadata": {
    "id": "K2zf-FZv3e2_"
   },
   "outputs": [],
   "source": [
    "import numpy as np # mathematics \n",
    "import pandas as pd # data operations \n",
    "import seaborn as sns # data visualization \n",
    "import matplotlib.pyplot as plt # plotting graph, chart, etc\n",
    "%matplotlib inline"
   ]
  },
  {
   "cell_type": "markdown",
   "metadata": {
    "id": "UhV5jXV86JZn"
   },
   "source": [
    "# Sample dataframe"
   ]
  },
  {
   "cell_type": "code",
   "execution_count": 8,
   "metadata": {
    "colab": {
     "base_uri": "https://localhost:8080/"
    },
    "id": "cJ1ziO9B4c2w",
    "outputId": "73d13e3a-9a59-4f48-cfa8-9c3a2b057ed1"
   },
   "outputs": [
    {
     "data": {
      "text/plain": [
       "array(['Unnamed: 0', 'Hotel Image', 'Hotel Name', 'Tipe Properti', 'City',\n",
       "       'Address', 'Hotel Rating', 'Min', 'Max', 'Lattitute', 'Longitude'],\n",
       "      dtype=object)"
      ]
     },
     "execution_count": 8,
     "metadata": {},
     "output_type": "execute_result"
    }
   ],
   "source": [
    "# read one of the csv\n",
    "df = pd.read_csv(\"dataset/hotels/db_hotel_bali.csv\")\n",
    "df.head()"
   ]
  },
  {
   "cell_type": "markdown",
   "metadata": {
    "id": "tLgEOLi46_lk"
   },
   "source": [
    "# Concat all csv files of hotels"
   ]
  },
  {
   "cell_type": "code",
   "execution_count": 22,
   "metadata": {
    "colab": {
     "base_uri": "https://localhost:8080/",
     "height": 371
    },
    "id": "UvczStYV7HNE",
    "outputId": "8ae7c42f-4f08-493b-e139-7ac3d57248ab"
   },
   "outputs": [
    {
     "data": {
      "text/html": [
       "\n",
       "  <div id=\"df-1a22907b-1ebc-4ee6-af2b-857c8937ba29\">\n",
       "    <div class=\"colab-df-container\">\n",
       "      <div>\n",
       "<style scoped>\n",
       "    .dataframe tbody tr th:only-of-type {\n",
       "        vertical-align: middle;\n",
       "    }\n",
       "\n",
       "    .dataframe tbody tr th {\n",
       "        vertical-align: top;\n",
       "    }\n",
       "\n",
       "    .dataframe thead th {\n",
       "        text-align: right;\n",
       "    }\n",
       "</style>\n",
       "<table border=\"1\" class=\"dataframe\">\n",
       "  <thead>\n",
       "    <tr style=\"text-align: right;\">\n",
       "      <th></th>\n",
       "      <th>Unnamed: 0</th>\n",
       "      <th>Hotel Image</th>\n",
       "      <th>Hotel Name</th>\n",
       "      <th>Tipe Properti</th>\n",
       "      <th>City</th>\n",
       "      <th>Address</th>\n",
       "      <th>Hotel Rating</th>\n",
       "      <th>Min</th>\n",
       "      <th>Max</th>\n",
       "      <th>Lattitute</th>\n",
       "      <th>Longitude</th>\n",
       "    </tr>\n",
       "  </thead>\n",
       "  <tbody>\n",
       "    <tr>\n",
       "      <th>0</th>\n",
       "      <td>2</td>\n",
       "      <td>https://s-light.tiket.photos/t/01E25EBZS3W0FY9...</td>\n",
       "      <td>D Carol Hotel Surabaya</td>\n",
       "      <td>Hotel</td>\n",
       "      <td>Bubutan Surabaya</td>\n",
       "      <td>Jl. Gundih No. 8. Gundih. Kec. Bubutan. Kota S...</td>\n",
       "      <td>4.2</td>\n",
       "      <td>195000</td>\n",
       "      <td>224250</td>\n",
       "      <td>-7.247228</td>\n",
       "      <td>112.729460</td>\n",
       "    </tr>\n",
       "    <tr>\n",
       "      <th>1</th>\n",
       "      <td>3</td>\n",
       "      <td>https://s-light.tiket.photos/t/01E25EBZS3W0FY9...</td>\n",
       "      <td>Choice City Hotel</td>\n",
       "      <td>Hotel</td>\n",
       "      <td>Bubutan Surabaya</td>\n",
       "      <td>Bubutan. Surabaya City. East Java 60174. Indon...</td>\n",
       "      <td>4.4</td>\n",
       "      <td>269997</td>\n",
       "      <td>374996</td>\n",
       "      <td>-7.255990</td>\n",
       "      <td>112.733686</td>\n",
       "    </tr>\n",
       "    <tr>\n",
       "      <th>2</th>\n",
       "      <td>4</td>\n",
       "      <td>https://s-light.tiket.photos/t/01E25EBZS3W0FY9...</td>\n",
       "      <td>G Suites Hotel By AMITHYA</td>\n",
       "      <td>Hotel</td>\n",
       "      <td>Gubeng Surabaya</td>\n",
       "      <td>Jl. Raya Gubeng No.43. Gubeng. Kec. Gubeng. Ko...</td>\n",
       "      <td>4.0</td>\n",
       "      <td>343000</td>\n",
       "      <td>2254000</td>\n",
       "      <td>-7.273623</td>\n",
       "      <td>112.747475</td>\n",
       "    </tr>\n",
       "    <tr>\n",
       "      <th>3</th>\n",
       "      <td>5</td>\n",
       "      <td>https://s-light.tiket.photos/t/01E25EBZS3W0FY9...</td>\n",
       "      <td>Royal Regantris Cendana formerly Royal Singosa...</td>\n",
       "      <td>Hotel</td>\n",
       "      <td>Tegalsari Surabaya</td>\n",
       "      <td>Jl. Kombes Pol. Moh. Duryat No.6. Tegalsari. K...</td>\n",
       "      <td>4.3</td>\n",
       "      <td>389996</td>\n",
       "      <td>1199988</td>\n",
       "      <td>-7.268379</td>\n",
       "      <td>112.739621</td>\n",
       "    </tr>\n",
       "    <tr>\n",
       "      <th>4</th>\n",
       "      <td>6</td>\n",
       "      <td>https://s-light.tiket.photos/t/01E25EBZS3W0FY9...</td>\n",
       "      <td>Livinn Taman Melati Surabaya</td>\n",
       "      <td>Hotel</td>\n",
       "      <td>Mulyorejo Surabaya</td>\n",
       "      <td>Jl. Mulyorejo Utara No.201. RT.006/RW.001. Mul...</td>\n",
       "      <td>4.1</td>\n",
       "      <td>224999</td>\n",
       "      <td>249999</td>\n",
       "      <td>-7.261569</td>\n",
       "      <td>112.785470</td>\n",
       "    </tr>\n",
       "  </tbody>\n",
       "</table>\n",
       "</div>\n",
       "      <button class=\"colab-df-convert\" onclick=\"convertToInteractive('df-1a22907b-1ebc-4ee6-af2b-857c8937ba29')\"\n",
       "              title=\"Convert this dataframe to an interactive table.\"\n",
       "              style=\"display:none;\">\n",
       "        \n",
       "  <svg xmlns=\"http://www.w3.org/2000/svg\" height=\"24px\"viewBox=\"0 0 24 24\"\n",
       "       width=\"24px\">\n",
       "    <path d=\"M0 0h24v24H0V0z\" fill=\"none\"/>\n",
       "    <path d=\"M18.56 5.44l.94 2.06.94-2.06 2.06-.94-2.06-.94-.94-2.06-.94 2.06-2.06.94zm-11 1L8.5 8.5l.94-2.06 2.06-.94-2.06-.94L8.5 2.5l-.94 2.06-2.06.94zm10 10l.94 2.06.94-2.06 2.06-.94-2.06-.94-.94-2.06-.94 2.06-2.06.94z\"/><path d=\"M17.41 7.96l-1.37-1.37c-.4-.4-.92-.59-1.43-.59-.52 0-1.04.2-1.43.59L10.3 9.45l-7.72 7.72c-.78.78-.78 2.05 0 2.83L4 21.41c.39.39.9.59 1.41.59.51 0 1.02-.2 1.41-.59l7.78-7.78 2.81-2.81c.8-.78.8-2.07 0-2.86zM5.41 20L4 18.59l7.72-7.72 1.47 1.35L5.41 20z\"/>\n",
       "  </svg>\n",
       "      </button>\n",
       "      \n",
       "  <style>\n",
       "    .colab-df-container {\n",
       "      display:flex;\n",
       "      flex-wrap:wrap;\n",
       "      gap: 12px;\n",
       "    }\n",
       "\n",
       "    .colab-df-convert {\n",
       "      background-color: #E8F0FE;\n",
       "      border: none;\n",
       "      border-radius: 50%;\n",
       "      cursor: pointer;\n",
       "      display: none;\n",
       "      fill: #1967D2;\n",
       "      height: 32px;\n",
       "      padding: 0 0 0 0;\n",
       "      width: 32px;\n",
       "    }\n",
       "\n",
       "    .colab-df-convert:hover {\n",
       "      background-color: #E2EBFA;\n",
       "      box-shadow: 0px 1px 2px rgba(60, 64, 67, 0.3), 0px 1px 3px 1px rgba(60, 64, 67, 0.15);\n",
       "      fill: #174EA6;\n",
       "    }\n",
       "\n",
       "    [theme=dark] .colab-df-convert {\n",
       "      background-color: #3B4455;\n",
       "      fill: #D2E3FC;\n",
       "    }\n",
       "\n",
       "    [theme=dark] .colab-df-convert:hover {\n",
       "      background-color: #434B5C;\n",
       "      box-shadow: 0px 1px 3px 1px rgba(0, 0, 0, 0.15);\n",
       "      filter: drop-shadow(0px 1px 2px rgba(0, 0, 0, 0.3));\n",
       "      fill: #FFFFFF;\n",
       "    }\n",
       "  </style>\n",
       "\n",
       "      <script>\n",
       "        const buttonEl =\n",
       "          document.querySelector('#df-1a22907b-1ebc-4ee6-af2b-857c8937ba29 button.colab-df-convert');\n",
       "        buttonEl.style.display =\n",
       "          google.colab.kernel.accessAllowed ? 'block' : 'none';\n",
       "\n",
       "        async function convertToInteractive(key) {\n",
       "          const element = document.querySelector('#df-1a22907b-1ebc-4ee6-af2b-857c8937ba29');\n",
       "          const dataTable =\n",
       "            await google.colab.kernel.invokeFunction('convertToInteractive',\n",
       "                                                     [key], {});\n",
       "          if (!dataTable) return;\n",
       "\n",
       "          const docLinkHtml = 'Like what you see? Visit the ' +\n",
       "            '<a target=\"_blank\" href=https://colab.research.google.com/notebooks/data_table.ipynb>data table notebook</a>'\n",
       "            + ' to learn more about interactive tables.';\n",
       "          element.innerHTML = '';\n",
       "          dataTable['output_type'] = 'display_data';\n",
       "          await google.colab.output.renderOutput(dataTable, element);\n",
       "          const docLink = document.createElement('div');\n",
       "          docLink.innerHTML = docLinkHtml;\n",
       "          element.appendChild(docLink);\n",
       "        }\n",
       "      </script>\n",
       "    </div>\n",
       "  </div>\n",
       "  "
      ],
      "text/plain": [
       "   Unnamed: 0                                        Hotel Image  \\\n",
       "0           2  https://s-light.tiket.photos/t/01E25EBZS3W0FY9...   \n",
       "1           3  https://s-light.tiket.photos/t/01E25EBZS3W0FY9...   \n",
       "2           4  https://s-light.tiket.photos/t/01E25EBZS3W0FY9...   \n",
       "3           5  https://s-light.tiket.photos/t/01E25EBZS3W0FY9...   \n",
       "4           6  https://s-light.tiket.photos/t/01E25EBZS3W0FY9...   \n",
       "\n",
       "                                          Hotel Name Tipe Properti  \\\n",
       "0                             D Carol Hotel Surabaya         Hotel   \n",
       "1                                  Choice City Hotel         Hotel   \n",
       "2                          G Suites Hotel By AMITHYA         Hotel   \n",
       "3  Royal Regantris Cendana formerly Royal Singosa...         Hotel   \n",
       "4                       Livinn Taman Melati Surabaya         Hotel   \n",
       "\n",
       "                 City                                            Address  \\\n",
       "0    Bubutan Surabaya  Jl. Gundih No. 8. Gundih. Kec. Bubutan. Kota S...   \n",
       "1    Bubutan Surabaya  Bubutan. Surabaya City. East Java 60174. Indon...   \n",
       "2     Gubeng Surabaya  Jl. Raya Gubeng No.43. Gubeng. Kec. Gubeng. Ko...   \n",
       "3  Tegalsari Surabaya  Jl. Kombes Pol. Moh. Duryat No.6. Tegalsari. K...   \n",
       "4  Mulyorejo Surabaya  Jl. Mulyorejo Utara No.201. RT.006/RW.001. Mul...   \n",
       "\n",
       "  Hotel Rating     Min      Max  Lattitute   Longitude  \n",
       "0          4.2  195000   224250  -7.247228  112.729460  \n",
       "1          4.4  269997   374996  -7.255990  112.733686  \n",
       "2          4.0  343000  2254000  -7.273623  112.747475  \n",
       "3          4.3  389996  1199988  -7.268379  112.739621  \n",
       "4          4.1  224999   249999  -7.261569  112.785470  "
      ]
     },
     "execution_count": 22,
     "metadata": {},
     "output_type": "execute_result"
    }
   ],
   "source": [
    "# concat all csv to hotels_dataset.csv \n",
    "import glob\n",
    "\n",
    "interesting_files = glob.glob(\"dataset/hotels/*.csv\")\n",
    "header_saved = False\n",
    "with open('dataset/hotels_dataset.csv','w') as fout:\n",
    "    for filename in interesting_files:\n",
    "        with open(filename) as fin:\n",
    "            header = next(fin)\n",
    "            if not header_saved:\n",
    "                fout.write(header)\n",
    "                header_saved = True\n",
    "            for line in fin:\n",
    "                fout.write(line)\n",
    "\n",
    "# giving column names for new csv\n",
    "column_name = pd.read_csv(\"dataset/hotels/db_hotel_bali.csv\").columns.values\n",
    "df = pd.read_csv('dataset/hotels_dataset.csv')\n",
    "df.columns = column_name\n",
    "df.head()"
   ]
  },
  {
   "cell_type": "markdown",
   "metadata": {
    "id": "DyjtB2RIEh54"
   },
   "source": [
    "# details"
   ]
  },
  {
   "cell_type": "code",
   "execution_count": 23,
   "metadata": {
    "colab": {
     "base_uri": "https://localhost:8080/"
    },
    "id": "Wn64B0SCDnhf",
    "outputId": "81e57688-b131-4932-ca8b-6c8b040876fe"
   },
   "outputs": [
    {
     "name": "stdout",
     "output_type": "stream",
     "text": [
      "shape :  (621, 11) \n",
      "\n",
      "data types : \n",
      " Unnamed: 0         int64\n",
      "Hotel Image       object\n",
      "Hotel Name        object\n",
      "Tipe Properti     object\n",
      "City              object\n",
      "Address           object\n",
      "Hotel Rating      object\n",
      "Min                int64\n",
      "Max                int64\n",
      "Lattitute        float64\n",
      "Longitude        float64\n",
      "dtype: object\n"
     ]
    }
   ],
   "source": [
    "shape = df.shape\n",
    "data_types = df.dtypes\n",
    "\n",
    "print(\"shape : \", shape, \"\\n\\ndata types : \\n\", data_types)"
   ]
  },
  {
   "cell_type": "markdown",
   "metadata": {
    "id": "5U0r9LuDFvKV"
   },
   "source": [
    "# dropping duplicate rows"
   ]
  },
  {
   "cell_type": "code",
   "execution_count": 27,
   "metadata": {
    "colab": {
     "base_uri": "https://localhost:8080/"
    },
    "id": "G0zlJwfGFzXj",
    "outputId": "688dc32d-9669-4afe-a1c5-b6d79ce7537b"
   },
   "outputs": [
    {
     "name": "stdout",
     "output_type": "stream",
     "text": [
      "number of duplicates :  Empty DataFrame\n",
      "Columns: [Unnamed: 0, Hotel Image, Hotel Name, Tipe Properti, City, Address, Hotel Rating, Min, Max, Lattitute, Longitude]\n",
      "Index: []\n"
     ]
    }
   ],
   "source": [
    "duplicate_rows_df = df[df.duplicated()]\n",
    "print(\"number of duplicates : \", duplicate_rows_df)"
   ]
  },
  {
   "cell_type": "code",
   "execution_count": 25,
   "metadata": {
    "colab": {
     "base_uri": "https://localhost:8080/"
    },
    "id": "wJEpDVbzGB_M",
    "outputId": "290894d7-d47b-4291-b5ce-6334fde2f919"
   },
   "outputs": [
    {
     "data": {
      "text/plain": [
       "Unnamed: 0       621\n",
       "Hotel Image      621\n",
       "Hotel Name       621\n",
       "Tipe Properti    621\n",
       "City             621\n",
       "Address          616\n",
       "Hotel Rating     621\n",
       "Min              621\n",
       "Max              621\n",
       "Lattitute        621\n",
       "Longitude        621\n",
       "dtype: int64"
      ]
     },
     "execution_count": 25,
     "metadata": {},
     "output_type": "execute_result"
    }
   ],
   "source": [
    "df.count()"
   ]
  },
  {
   "cell_type": "code",
   "execution_count": 26,
   "metadata": {
    "id": "Jnn_MAvJGbUz"
   },
   "outputs": [],
   "source": [
    "df = df.drop_duplicates()"
   ]
  },
  {
   "cell_type": "markdown",
   "metadata": {
    "id": "5kbfpp2OGsNr"
   },
   "source": [
    "# dropping the missing or null values"
   ]
  },
  {
   "cell_type": "code",
   "execution_count": 30,
   "metadata": {
    "colab": {
     "base_uri": "https://localhost:8080/"
    },
    "id": "WbP7zbF2Gvt7",
    "outputId": "0d36203c-867f-4bf5-af98-b76e0d81432e"
   },
   "outputs": [
    {
     "name": "stdout",
     "output_type": "stream",
     "text": [
      "Unnamed: 0       0\n",
      "Hotel Image      0\n",
      "Hotel Name       0\n",
      "Tipe Properti    0\n",
      "City             0\n",
      "Address          0\n",
      "Hotel Rating     0\n",
      "Min              0\n",
      "Max              0\n",
      "Lattitute        0\n",
      "Longitude        0\n",
      "dtype: int64\n"
     ]
    }
   ],
   "source": [
    "print(df.isnull().sum())"
   ]
  },
  {
   "cell_type": "code",
   "execution_count": 29,
   "metadata": {
    "colab": {
     "base_uri": "https://localhost:8080/"
    },
    "id": "l8Nycm6lGzJT",
    "outputId": "d4094b33-d1bd-4a58-8587-9c0bab89b082"
   },
   "outputs": [
    {
     "data": {
      "text/plain": [
       "Unnamed: 0       616\n",
       "Hotel Image      616\n",
       "Hotel Name       616\n",
       "Tipe Properti    616\n",
       "City             616\n",
       "Address          616\n",
       "Hotel Rating     616\n",
       "Min              616\n",
       "Max              616\n",
       "Lattitute        616\n",
       "Longitude        616\n",
       "dtype: int64"
      ]
     },
     "execution_count": 29,
     "metadata": {},
     "output_type": "execute_result"
    }
   ],
   "source": [
    "df = df.dropna()\n",
    "df.count()"
   ]
  },
  {
   "cell_type": "markdown",
   "metadata": {
    "id": "6G4lL7e5G9DG"
   },
   "source": [
    "# get valuable data for MD"
   ]
  },
  {
   "cell_type": "code",
   "execution_count": 31,
   "metadata": {
    "colab": {
     "base_uri": "https://localhost:8080/"
    },
    "id": "TzIfbVYJG_x3",
    "outputId": "3f520876-2506-444a-e86d-3233fc58abe9"
   },
   "outputs": [
    {
     "data": {
      "text/plain": [
       "0    https://s-light.tiket.photos/t/01E25EBZS3W0FY9...\n",
       "1    https://s-light.tiket.photos/t/01E25EBZS3W0FY9...\n",
       "2    https://s-light.tiket.photos/t/01E25EBZS3W0FY9...\n",
       "3    https://s-light.tiket.photos/t/01E25EBZS3W0FY9...\n",
       "4    https://s-light.tiket.photos/t/01E25EBZS3W0FY9...\n",
       "Name: Hotel Image, dtype: object"
      ]
     },
     "execution_count": 31,
     "metadata": {},
     "output_type": "execute_result"
    }
   ],
   "source": [
    "image_data = df[\"Hotel Image\"]\n",
    "image_data.head()"
   ]
  },
  {
   "cell_type": "code",
   "execution_count": 32,
   "metadata": {
    "id": "rugZap3SIIdh"
   },
   "outputs": [],
   "source": [
    "image_data.to_csv('image_data.csv')"
   ]
  },
  {
   "cell_type": "markdown",
   "metadata": {
    "id": "ViXuvp2fIt14"
   },
   "source": [
    "# Delete unused columns"
   ]
  },
  {
   "cell_type": "code",
   "execution_count": 33,
   "metadata": {
    "colab": {
     "base_uri": "https://localhost:8080/",
     "height": 371
    },
    "id": "CZ31Ck6WLzSm",
    "outputId": "db6b7e3f-246f-4113-fe55-47b0110ab8ed"
   },
   "outputs": [
    {
     "data": {
      "text/html": [
       "\n",
       "  <div id=\"df-fdd5e5b7-1535-4a50-9515-c58e5d0591d2\">\n",
       "    <div class=\"colab-df-container\">\n",
       "      <div>\n",
       "<style scoped>\n",
       "    .dataframe tbody tr th:only-of-type {\n",
       "        vertical-align: middle;\n",
       "    }\n",
       "\n",
       "    .dataframe tbody tr th {\n",
       "        vertical-align: top;\n",
       "    }\n",
       "\n",
       "    .dataframe thead th {\n",
       "        text-align: right;\n",
       "    }\n",
       "</style>\n",
       "<table border=\"1\" class=\"dataframe\">\n",
       "  <thead>\n",
       "    <tr style=\"text-align: right;\">\n",
       "      <th></th>\n",
       "      <th>Unnamed: 0</th>\n",
       "      <th>Hotel Image</th>\n",
       "      <th>Hotel Name</th>\n",
       "      <th>Tipe Properti</th>\n",
       "      <th>City</th>\n",
       "      <th>Address</th>\n",
       "      <th>Hotel Rating</th>\n",
       "      <th>Min</th>\n",
       "      <th>Max</th>\n",
       "      <th>Lattitute</th>\n",
       "      <th>Longitude</th>\n",
       "    </tr>\n",
       "  </thead>\n",
       "  <tbody>\n",
       "    <tr>\n",
       "      <th>0</th>\n",
       "      <td>2</td>\n",
       "      <td>https://s-light.tiket.photos/t/01E25EBZS3W0FY9...</td>\n",
       "      <td>D Carol Hotel Surabaya</td>\n",
       "      <td>Hotel</td>\n",
       "      <td>Bubutan Surabaya</td>\n",
       "      <td>Jl. Gundih No. 8. Gundih. Kec. Bubutan. Kota S...</td>\n",
       "      <td>4.2</td>\n",
       "      <td>195000</td>\n",
       "      <td>224250</td>\n",
       "      <td>-7.247228</td>\n",
       "      <td>112.729460</td>\n",
       "    </tr>\n",
       "    <tr>\n",
       "      <th>1</th>\n",
       "      <td>3</td>\n",
       "      <td>https://s-light.tiket.photos/t/01E25EBZS3W0FY9...</td>\n",
       "      <td>Choice City Hotel</td>\n",
       "      <td>Hotel</td>\n",
       "      <td>Bubutan Surabaya</td>\n",
       "      <td>Bubutan. Surabaya City. East Java 60174. Indon...</td>\n",
       "      <td>4.4</td>\n",
       "      <td>269997</td>\n",
       "      <td>374996</td>\n",
       "      <td>-7.255990</td>\n",
       "      <td>112.733686</td>\n",
       "    </tr>\n",
       "    <tr>\n",
       "      <th>2</th>\n",
       "      <td>4</td>\n",
       "      <td>https://s-light.tiket.photos/t/01E25EBZS3W0FY9...</td>\n",
       "      <td>G Suites Hotel By AMITHYA</td>\n",
       "      <td>Hotel</td>\n",
       "      <td>Gubeng Surabaya</td>\n",
       "      <td>Jl. Raya Gubeng No.43. Gubeng. Kec. Gubeng. Ko...</td>\n",
       "      <td>4.0</td>\n",
       "      <td>343000</td>\n",
       "      <td>2254000</td>\n",
       "      <td>-7.273623</td>\n",
       "      <td>112.747475</td>\n",
       "    </tr>\n",
       "    <tr>\n",
       "      <th>3</th>\n",
       "      <td>5</td>\n",
       "      <td>https://s-light.tiket.photos/t/01E25EBZS3W0FY9...</td>\n",
       "      <td>Royal Regantris Cendana formerly Royal Singosa...</td>\n",
       "      <td>Hotel</td>\n",
       "      <td>Tegalsari Surabaya</td>\n",
       "      <td>Jl. Kombes Pol. Moh. Duryat No.6. Tegalsari. K...</td>\n",
       "      <td>4.3</td>\n",
       "      <td>389996</td>\n",
       "      <td>1199988</td>\n",
       "      <td>-7.268379</td>\n",
       "      <td>112.739621</td>\n",
       "    </tr>\n",
       "    <tr>\n",
       "      <th>4</th>\n",
       "      <td>6</td>\n",
       "      <td>https://s-light.tiket.photos/t/01E25EBZS3W0FY9...</td>\n",
       "      <td>Livinn Taman Melati Surabaya</td>\n",
       "      <td>Hotel</td>\n",
       "      <td>Mulyorejo Surabaya</td>\n",
       "      <td>Jl. Mulyorejo Utara No.201. RT.006/RW.001. Mul...</td>\n",
       "      <td>4.1</td>\n",
       "      <td>224999</td>\n",
       "      <td>249999</td>\n",
       "      <td>-7.261569</td>\n",
       "      <td>112.785470</td>\n",
       "    </tr>\n",
       "  </tbody>\n",
       "</table>\n",
       "</div>\n",
       "      <button class=\"colab-df-convert\" onclick=\"convertToInteractive('df-fdd5e5b7-1535-4a50-9515-c58e5d0591d2')\"\n",
       "              title=\"Convert this dataframe to an interactive table.\"\n",
       "              style=\"display:none;\">\n",
       "        \n",
       "  <svg xmlns=\"http://www.w3.org/2000/svg\" height=\"24px\"viewBox=\"0 0 24 24\"\n",
       "       width=\"24px\">\n",
       "    <path d=\"M0 0h24v24H0V0z\" fill=\"none\"/>\n",
       "    <path d=\"M18.56 5.44l.94 2.06.94-2.06 2.06-.94-2.06-.94-.94-2.06-.94 2.06-2.06.94zm-11 1L8.5 8.5l.94-2.06 2.06-.94-2.06-.94L8.5 2.5l-.94 2.06-2.06.94zm10 10l.94 2.06.94-2.06 2.06-.94-2.06-.94-.94-2.06-.94 2.06-2.06.94z\"/><path d=\"M17.41 7.96l-1.37-1.37c-.4-.4-.92-.59-1.43-.59-.52 0-1.04.2-1.43.59L10.3 9.45l-7.72 7.72c-.78.78-.78 2.05 0 2.83L4 21.41c.39.39.9.59 1.41.59.51 0 1.02-.2 1.41-.59l7.78-7.78 2.81-2.81c.8-.78.8-2.07 0-2.86zM5.41 20L4 18.59l7.72-7.72 1.47 1.35L5.41 20z\"/>\n",
       "  </svg>\n",
       "      </button>\n",
       "      \n",
       "  <style>\n",
       "    .colab-df-container {\n",
       "      display:flex;\n",
       "      flex-wrap:wrap;\n",
       "      gap: 12px;\n",
       "    }\n",
       "\n",
       "    .colab-df-convert {\n",
       "      background-color: #E8F0FE;\n",
       "      border: none;\n",
       "      border-radius: 50%;\n",
       "      cursor: pointer;\n",
       "      display: none;\n",
       "      fill: #1967D2;\n",
       "      height: 32px;\n",
       "      padding: 0 0 0 0;\n",
       "      width: 32px;\n",
       "    }\n",
       "\n",
       "    .colab-df-convert:hover {\n",
       "      background-color: #E2EBFA;\n",
       "      box-shadow: 0px 1px 2px rgba(60, 64, 67, 0.3), 0px 1px 3px 1px rgba(60, 64, 67, 0.15);\n",
       "      fill: #174EA6;\n",
       "    }\n",
       "\n",
       "    [theme=dark] .colab-df-convert {\n",
       "      background-color: #3B4455;\n",
       "      fill: #D2E3FC;\n",
       "    }\n",
       "\n",
       "    [theme=dark] .colab-df-convert:hover {\n",
       "      background-color: #434B5C;\n",
       "      box-shadow: 0px 1px 3px 1px rgba(0, 0, 0, 0.15);\n",
       "      filter: drop-shadow(0px 1px 2px rgba(0, 0, 0, 0.3));\n",
       "      fill: #FFFFFF;\n",
       "    }\n",
       "  </style>\n",
       "\n",
       "      <script>\n",
       "        const buttonEl =\n",
       "          document.querySelector('#df-fdd5e5b7-1535-4a50-9515-c58e5d0591d2 button.colab-df-convert');\n",
       "        buttonEl.style.display =\n",
       "          google.colab.kernel.accessAllowed ? 'block' : 'none';\n",
       "\n",
       "        async function convertToInteractive(key) {\n",
       "          const element = document.querySelector('#df-fdd5e5b7-1535-4a50-9515-c58e5d0591d2');\n",
       "          const dataTable =\n",
       "            await google.colab.kernel.invokeFunction('convertToInteractive',\n",
       "                                                     [key], {});\n",
       "          if (!dataTable) return;\n",
       "\n",
       "          const docLinkHtml = 'Like what you see? Visit the ' +\n",
       "            '<a target=\"_blank\" href=https://colab.research.google.com/notebooks/data_table.ipynb>data table notebook</a>'\n",
       "            + ' to learn more about interactive tables.';\n",
       "          element.innerHTML = '';\n",
       "          dataTable['output_type'] = 'display_data';\n",
       "          await google.colab.output.renderOutput(dataTable, element);\n",
       "          const docLink = document.createElement('div');\n",
       "          docLink.innerHTML = docLinkHtml;\n",
       "          element.appendChild(docLink);\n",
       "        }\n",
       "      </script>\n",
       "    </div>\n",
       "  </div>\n",
       "  "
      ],
      "text/plain": [
       "   Unnamed: 0                                        Hotel Image  \\\n",
       "0           2  https://s-light.tiket.photos/t/01E25EBZS3W0FY9...   \n",
       "1           3  https://s-light.tiket.photos/t/01E25EBZS3W0FY9...   \n",
       "2           4  https://s-light.tiket.photos/t/01E25EBZS3W0FY9...   \n",
       "3           5  https://s-light.tiket.photos/t/01E25EBZS3W0FY9...   \n",
       "4           6  https://s-light.tiket.photos/t/01E25EBZS3W0FY9...   \n",
       "\n",
       "                                          Hotel Name Tipe Properti  \\\n",
       "0                             D Carol Hotel Surabaya         Hotel   \n",
       "1                                  Choice City Hotel         Hotel   \n",
       "2                          G Suites Hotel By AMITHYA         Hotel   \n",
       "3  Royal Regantris Cendana formerly Royal Singosa...         Hotel   \n",
       "4                       Livinn Taman Melati Surabaya         Hotel   \n",
       "\n",
       "                 City                                            Address  \\\n",
       "0    Bubutan Surabaya  Jl. Gundih No. 8. Gundih. Kec. Bubutan. Kota S...   \n",
       "1    Bubutan Surabaya  Bubutan. Surabaya City. East Java 60174. Indon...   \n",
       "2     Gubeng Surabaya  Jl. Raya Gubeng No.43. Gubeng. Kec. Gubeng. Ko...   \n",
       "3  Tegalsari Surabaya  Jl. Kombes Pol. Moh. Duryat No.6. Tegalsari. K...   \n",
       "4  Mulyorejo Surabaya  Jl. Mulyorejo Utara No.201. RT.006/RW.001. Mul...   \n",
       "\n",
       "  Hotel Rating     Min      Max  Lattitute   Longitude  \n",
       "0          4.2  195000   224250  -7.247228  112.729460  \n",
       "1          4.4  269997   374996  -7.255990  112.733686  \n",
       "2          4.0  343000  2254000  -7.273623  112.747475  \n",
       "3          4.3  389996  1199988  -7.268379  112.739621  \n",
       "4          4.1  224999   249999  -7.261569  112.785470  "
      ]
     },
     "execution_count": 33,
     "metadata": {},
     "output_type": "execute_result"
    }
   ],
   "source": [
    "df.head()"
   ]
  },
  {
   "cell_type": "code",
   "execution_count": 39,
   "metadata": {
    "colab": {
     "base_uri": "https://localhost:8080/",
     "height": 358
    },
    "id": "oYIwTXz8MD3w",
    "outputId": "498b8886-f8bf-4f8f-9016-5d7f8e3fd87d"
   },
   "outputs": [
    {
     "ename": "KeyError",
     "evalue": "ignored",
     "output_type": "error",
     "traceback": [
      "\u001b[0;31m---------------------------------------------------------------------------\u001b[0m",
      "\u001b[0;31mKeyError\u001b[0m                                  Traceback (most recent call last)",
      "\u001b[0;32m<ipython-input-39-11225704ac25>\u001b[0m in \u001b[0;36m<cell line: 2>\u001b[0;34m()\u001b[0m\n\u001b[1;32m      1\u001b[0m \u001b[0mdf1\u001b[0m \u001b[0;34m=\u001b[0m \u001b[0mdf\u001b[0m\u001b[0;34m\u001b[0m\u001b[0;34m\u001b[0m\u001b[0m\n\u001b[0;32m----> 2\u001b[0;31m \u001b[0mdf1\u001b[0m\u001b[0;34m.\u001b[0m\u001b[0mdrop\u001b[0m\u001b[0;34m(\u001b[0m\u001b[0;34m[\u001b[0m\u001b[0;34m'Hotel Image'\u001b[0m\u001b[0;34m]\u001b[0m\u001b[0;34m,\u001b[0m \u001b[0minplace\u001b[0m\u001b[0;34m=\u001b[0m\u001b[0;32mTrue\u001b[0m\u001b[0;34m,\u001b[0m \u001b[0maxis\u001b[0m\u001b[0;34m=\u001b[0m\u001b[0;36m1\u001b[0m\u001b[0;34m)\u001b[0m\u001b[0;34m\u001b[0m\u001b[0;34m\u001b[0m\u001b[0m\n\u001b[0m\u001b[1;32m      3\u001b[0m \u001b[0mdf1\u001b[0m\u001b[0;34m.\u001b[0m\u001b[0mhead\u001b[0m\u001b[0;34m(\u001b[0m\u001b[0;34m)\u001b[0m\u001b[0;34m\u001b[0m\u001b[0;34m\u001b[0m\u001b[0m\n",
      "\u001b[0;32m/usr/local/lib/python3.10/dist-packages/pandas/util/_decorators.py\u001b[0m in \u001b[0;36mwrapper\u001b[0;34m(*args, **kwargs)\u001b[0m\n\u001b[1;32m    329\u001b[0m                     \u001b[0mstacklevel\u001b[0m\u001b[0;34m=\u001b[0m\u001b[0mfind_stack_level\u001b[0m\u001b[0;34m(\u001b[0m\u001b[0;34m)\u001b[0m\u001b[0;34m,\u001b[0m\u001b[0;34m\u001b[0m\u001b[0;34m\u001b[0m\u001b[0m\n\u001b[1;32m    330\u001b[0m                 )\n\u001b[0;32m--> 331\u001b[0;31m             \u001b[0;32mreturn\u001b[0m \u001b[0mfunc\u001b[0m\u001b[0;34m(\u001b[0m\u001b[0;34m*\u001b[0m\u001b[0margs\u001b[0m\u001b[0;34m,\u001b[0m \u001b[0;34m**\u001b[0m\u001b[0mkwargs\u001b[0m\u001b[0;34m)\u001b[0m\u001b[0;34m\u001b[0m\u001b[0;34m\u001b[0m\u001b[0m\n\u001b[0m\u001b[1;32m    332\u001b[0m \u001b[0;34m\u001b[0m\u001b[0m\n\u001b[1;32m    333\u001b[0m         \u001b[0;31m# error: \"Callable[[VarArg(Any), KwArg(Any)], Any]\" has no\u001b[0m\u001b[0;34m\u001b[0m\u001b[0;34m\u001b[0m\u001b[0m\n",
      "\u001b[0;32m/usr/local/lib/python3.10/dist-packages/pandas/core/frame.py\u001b[0m in \u001b[0;36mdrop\u001b[0;34m(self, labels, axis, index, columns, level, inplace, errors)\u001b[0m\n\u001b[1;32m   5397\u001b[0m                 \u001b[0mweight\u001b[0m  \u001b[0;36m1.0\u001b[0m     \u001b[0;36m0.8\u001b[0m\u001b[0;34m\u001b[0m\u001b[0;34m\u001b[0m\u001b[0m\n\u001b[1;32m   5398\u001b[0m         \"\"\"\n\u001b[0;32m-> 5399\u001b[0;31m         return super().drop(\n\u001b[0m\u001b[1;32m   5400\u001b[0m             \u001b[0mlabels\u001b[0m\u001b[0;34m=\u001b[0m\u001b[0mlabels\u001b[0m\u001b[0;34m,\u001b[0m\u001b[0;34m\u001b[0m\u001b[0;34m\u001b[0m\u001b[0m\n\u001b[1;32m   5401\u001b[0m             \u001b[0maxis\u001b[0m\u001b[0;34m=\u001b[0m\u001b[0maxis\u001b[0m\u001b[0;34m,\u001b[0m\u001b[0;34m\u001b[0m\u001b[0;34m\u001b[0m\u001b[0m\n",
      "\u001b[0;32m/usr/local/lib/python3.10/dist-packages/pandas/util/_decorators.py\u001b[0m in \u001b[0;36mwrapper\u001b[0;34m(*args, **kwargs)\u001b[0m\n\u001b[1;32m    329\u001b[0m                     \u001b[0mstacklevel\u001b[0m\u001b[0;34m=\u001b[0m\u001b[0mfind_stack_level\u001b[0m\u001b[0;34m(\u001b[0m\u001b[0;34m)\u001b[0m\u001b[0;34m,\u001b[0m\u001b[0;34m\u001b[0m\u001b[0;34m\u001b[0m\u001b[0m\n\u001b[1;32m    330\u001b[0m                 )\n\u001b[0;32m--> 331\u001b[0;31m             \u001b[0;32mreturn\u001b[0m \u001b[0mfunc\u001b[0m\u001b[0;34m(\u001b[0m\u001b[0;34m*\u001b[0m\u001b[0margs\u001b[0m\u001b[0;34m,\u001b[0m \u001b[0;34m**\u001b[0m\u001b[0mkwargs\u001b[0m\u001b[0;34m)\u001b[0m\u001b[0;34m\u001b[0m\u001b[0;34m\u001b[0m\u001b[0m\n\u001b[0m\u001b[1;32m    332\u001b[0m \u001b[0;34m\u001b[0m\u001b[0m\n\u001b[1;32m    333\u001b[0m         \u001b[0;31m# error: \"Callable[[VarArg(Any), KwArg(Any)], Any]\" has no\u001b[0m\u001b[0;34m\u001b[0m\u001b[0;34m\u001b[0m\u001b[0m\n",
      "\u001b[0;32m/usr/local/lib/python3.10/dist-packages/pandas/core/generic.py\u001b[0m in \u001b[0;36mdrop\u001b[0;34m(self, labels, axis, index, columns, level, inplace, errors)\u001b[0m\n\u001b[1;32m   4503\u001b[0m         \u001b[0;32mfor\u001b[0m \u001b[0maxis\u001b[0m\u001b[0;34m,\u001b[0m \u001b[0mlabels\u001b[0m \u001b[0;32min\u001b[0m \u001b[0maxes\u001b[0m\u001b[0;34m.\u001b[0m\u001b[0mitems\u001b[0m\u001b[0;34m(\u001b[0m\u001b[0;34m)\u001b[0m\u001b[0;34m:\u001b[0m\u001b[0;34m\u001b[0m\u001b[0;34m\u001b[0m\u001b[0m\n\u001b[1;32m   4504\u001b[0m             \u001b[0;32mif\u001b[0m \u001b[0mlabels\u001b[0m \u001b[0;32mis\u001b[0m \u001b[0;32mnot\u001b[0m \u001b[0;32mNone\u001b[0m\u001b[0;34m:\u001b[0m\u001b[0;34m\u001b[0m\u001b[0;34m\u001b[0m\u001b[0m\n\u001b[0;32m-> 4505\u001b[0;31m                 \u001b[0mobj\u001b[0m \u001b[0;34m=\u001b[0m \u001b[0mobj\u001b[0m\u001b[0;34m.\u001b[0m\u001b[0m_drop_axis\u001b[0m\u001b[0;34m(\u001b[0m\u001b[0mlabels\u001b[0m\u001b[0;34m,\u001b[0m \u001b[0maxis\u001b[0m\u001b[0;34m,\u001b[0m \u001b[0mlevel\u001b[0m\u001b[0;34m=\u001b[0m\u001b[0mlevel\u001b[0m\u001b[0;34m,\u001b[0m \u001b[0merrors\u001b[0m\u001b[0;34m=\u001b[0m\u001b[0merrors\u001b[0m\u001b[0;34m)\u001b[0m\u001b[0;34m\u001b[0m\u001b[0;34m\u001b[0m\u001b[0m\n\u001b[0m\u001b[1;32m   4506\u001b[0m \u001b[0;34m\u001b[0m\u001b[0m\n\u001b[1;32m   4507\u001b[0m         \u001b[0;32mif\u001b[0m \u001b[0minplace\u001b[0m\u001b[0;34m:\u001b[0m\u001b[0;34m\u001b[0m\u001b[0;34m\u001b[0m\u001b[0m\n",
      "\u001b[0;32m/usr/local/lib/python3.10/dist-packages/pandas/core/generic.py\u001b[0m in \u001b[0;36m_drop_axis\u001b[0;34m(self, labels, axis, level, errors, only_slice)\u001b[0m\n\u001b[1;32m   4544\u001b[0m                 \u001b[0mnew_axis\u001b[0m \u001b[0;34m=\u001b[0m \u001b[0maxis\u001b[0m\u001b[0;34m.\u001b[0m\u001b[0mdrop\u001b[0m\u001b[0;34m(\u001b[0m\u001b[0mlabels\u001b[0m\u001b[0;34m,\u001b[0m \u001b[0mlevel\u001b[0m\u001b[0;34m=\u001b[0m\u001b[0mlevel\u001b[0m\u001b[0;34m,\u001b[0m \u001b[0merrors\u001b[0m\u001b[0;34m=\u001b[0m\u001b[0merrors\u001b[0m\u001b[0;34m)\u001b[0m\u001b[0;34m\u001b[0m\u001b[0;34m\u001b[0m\u001b[0m\n\u001b[1;32m   4545\u001b[0m             \u001b[0;32melse\u001b[0m\u001b[0;34m:\u001b[0m\u001b[0;34m\u001b[0m\u001b[0;34m\u001b[0m\u001b[0m\n\u001b[0;32m-> 4546\u001b[0;31m                 \u001b[0mnew_axis\u001b[0m \u001b[0;34m=\u001b[0m \u001b[0maxis\u001b[0m\u001b[0;34m.\u001b[0m\u001b[0mdrop\u001b[0m\u001b[0;34m(\u001b[0m\u001b[0mlabels\u001b[0m\u001b[0;34m,\u001b[0m \u001b[0merrors\u001b[0m\u001b[0;34m=\u001b[0m\u001b[0merrors\u001b[0m\u001b[0;34m)\u001b[0m\u001b[0;34m\u001b[0m\u001b[0;34m\u001b[0m\u001b[0m\n\u001b[0m\u001b[1;32m   4547\u001b[0m             \u001b[0mindexer\u001b[0m \u001b[0;34m=\u001b[0m \u001b[0maxis\u001b[0m\u001b[0;34m.\u001b[0m\u001b[0mget_indexer\u001b[0m\u001b[0;34m(\u001b[0m\u001b[0mnew_axis\u001b[0m\u001b[0;34m)\u001b[0m\u001b[0;34m\u001b[0m\u001b[0;34m\u001b[0m\u001b[0m\n\u001b[1;32m   4548\u001b[0m \u001b[0;34m\u001b[0m\u001b[0m\n",
      "\u001b[0;32m/usr/local/lib/python3.10/dist-packages/pandas/core/indexes/base.py\u001b[0m in \u001b[0;36mdrop\u001b[0;34m(self, labels, errors)\u001b[0m\n\u001b[1;32m   6932\u001b[0m         \u001b[0;32mif\u001b[0m \u001b[0mmask\u001b[0m\u001b[0;34m.\u001b[0m\u001b[0many\u001b[0m\u001b[0;34m(\u001b[0m\u001b[0;34m)\u001b[0m\u001b[0;34m:\u001b[0m\u001b[0;34m\u001b[0m\u001b[0;34m\u001b[0m\u001b[0m\n\u001b[1;32m   6933\u001b[0m             \u001b[0;32mif\u001b[0m \u001b[0merrors\u001b[0m \u001b[0;34m!=\u001b[0m \u001b[0;34m\"ignore\"\u001b[0m\u001b[0;34m:\u001b[0m\u001b[0;34m\u001b[0m\u001b[0;34m\u001b[0m\u001b[0m\n\u001b[0;32m-> 6934\u001b[0;31m                 \u001b[0;32mraise\u001b[0m \u001b[0mKeyError\u001b[0m\u001b[0;34m(\u001b[0m\u001b[0;34mf\"{list(labels[mask])} not found in axis\"\u001b[0m\u001b[0;34m)\u001b[0m\u001b[0;34m\u001b[0m\u001b[0;34m\u001b[0m\u001b[0m\n\u001b[0m\u001b[1;32m   6935\u001b[0m             \u001b[0mindexer\u001b[0m \u001b[0;34m=\u001b[0m \u001b[0mindexer\u001b[0m\u001b[0;34m[\u001b[0m\u001b[0;34m~\u001b[0m\u001b[0mmask\u001b[0m\u001b[0;34m]\u001b[0m\u001b[0;34m\u001b[0m\u001b[0;34m\u001b[0m\u001b[0m\n\u001b[1;32m   6936\u001b[0m         \u001b[0;32mreturn\u001b[0m \u001b[0mself\u001b[0m\u001b[0;34m.\u001b[0m\u001b[0mdelete\u001b[0m\u001b[0;34m(\u001b[0m\u001b[0mindexer\u001b[0m\u001b[0;34m)\u001b[0m\u001b[0;34m\u001b[0m\u001b[0;34m\u001b[0m\u001b[0m\n",
      "\u001b[0;31mKeyError\u001b[0m: \"['Hotel Image'] not found in axis\""
     ]
    }
   ],
   "source": [
    "df1 = df\n",
    "df1.drop(['Hotel Image'], inplace=True, axis=1)"
   ]
  },
  {
   "cell_type": "code",
   "execution_count": 40,
   "metadata": {
    "colab": {
     "base_uri": "https://localhost:8080/",
     "height": 354
    },
    "id": "Ye87n_ytMKdC",
    "outputId": "cc3dc092-7e7a-43b9-b2d7-d90d4a0e7abf"
   },
   "outputs": [
    {
     "data": {
      "text/html": [
       "\n",
       "  <div id=\"df-82b3cc1a-d12d-4513-990f-a911a3c20a6b\">\n",
       "    <div class=\"colab-df-container\">\n",
       "      <div>\n",
       "<style scoped>\n",
       "    .dataframe tbody tr th:only-of-type {\n",
       "        vertical-align: middle;\n",
       "    }\n",
       "\n",
       "    .dataframe tbody tr th {\n",
       "        vertical-align: top;\n",
       "    }\n",
       "\n",
       "    .dataframe thead th {\n",
       "        text-align: right;\n",
       "    }\n",
       "</style>\n",
       "<table border=\"1\" class=\"dataframe\">\n",
       "  <thead>\n",
       "    <tr style=\"text-align: right;\">\n",
       "      <th></th>\n",
       "      <th>Unnamed: 0</th>\n",
       "      <th>Hotel Name</th>\n",
       "      <th>Tipe Properti</th>\n",
       "      <th>City</th>\n",
       "      <th>Address</th>\n",
       "      <th>Hotel Rating</th>\n",
       "      <th>Min</th>\n",
       "      <th>Max</th>\n",
       "      <th>Lattitute</th>\n",
       "      <th>Longitude</th>\n",
       "    </tr>\n",
       "  </thead>\n",
       "  <tbody>\n",
       "    <tr>\n",
       "      <th>0</th>\n",
       "      <td>2</td>\n",
       "      <td>D Carol Hotel Surabaya</td>\n",
       "      <td>Hotel</td>\n",
       "      <td>Bubutan Surabaya</td>\n",
       "      <td>Jl. Gundih No. 8. Gundih. Kec. Bubutan. Kota S...</td>\n",
       "      <td>4.2</td>\n",
       "      <td>195000</td>\n",
       "      <td>224250</td>\n",
       "      <td>-7.247228</td>\n",
       "      <td>112.729460</td>\n",
       "    </tr>\n",
       "    <tr>\n",
       "      <th>1</th>\n",
       "      <td>3</td>\n",
       "      <td>Choice City Hotel</td>\n",
       "      <td>Hotel</td>\n",
       "      <td>Bubutan Surabaya</td>\n",
       "      <td>Bubutan. Surabaya City. East Java 60174. Indon...</td>\n",
       "      <td>4.4</td>\n",
       "      <td>269997</td>\n",
       "      <td>374996</td>\n",
       "      <td>-7.255990</td>\n",
       "      <td>112.733686</td>\n",
       "    </tr>\n",
       "    <tr>\n",
       "      <th>2</th>\n",
       "      <td>4</td>\n",
       "      <td>G Suites Hotel By AMITHYA</td>\n",
       "      <td>Hotel</td>\n",
       "      <td>Gubeng Surabaya</td>\n",
       "      <td>Jl. Raya Gubeng No.43. Gubeng. Kec. Gubeng. Ko...</td>\n",
       "      <td>4.0</td>\n",
       "      <td>343000</td>\n",
       "      <td>2254000</td>\n",
       "      <td>-7.273623</td>\n",
       "      <td>112.747475</td>\n",
       "    </tr>\n",
       "    <tr>\n",
       "      <th>3</th>\n",
       "      <td>5</td>\n",
       "      <td>Royal Regantris Cendana formerly Royal Singosa...</td>\n",
       "      <td>Hotel</td>\n",
       "      <td>Tegalsari Surabaya</td>\n",
       "      <td>Jl. Kombes Pol. Moh. Duryat No.6. Tegalsari. K...</td>\n",
       "      <td>4.3</td>\n",
       "      <td>389996</td>\n",
       "      <td>1199988</td>\n",
       "      <td>-7.268379</td>\n",
       "      <td>112.739621</td>\n",
       "    </tr>\n",
       "    <tr>\n",
       "      <th>4</th>\n",
       "      <td>6</td>\n",
       "      <td>Livinn Taman Melati Surabaya</td>\n",
       "      <td>Hotel</td>\n",
       "      <td>Mulyorejo Surabaya</td>\n",
       "      <td>Jl. Mulyorejo Utara No.201. RT.006/RW.001. Mul...</td>\n",
       "      <td>4.1</td>\n",
       "      <td>224999</td>\n",
       "      <td>249999</td>\n",
       "      <td>-7.261569</td>\n",
       "      <td>112.785470</td>\n",
       "    </tr>\n",
       "  </tbody>\n",
       "</table>\n",
       "</div>\n",
       "      <button class=\"colab-df-convert\" onclick=\"convertToInteractive('df-82b3cc1a-d12d-4513-990f-a911a3c20a6b')\"\n",
       "              title=\"Convert this dataframe to an interactive table.\"\n",
       "              style=\"display:none;\">\n",
       "        \n",
       "  <svg xmlns=\"http://www.w3.org/2000/svg\" height=\"24px\"viewBox=\"0 0 24 24\"\n",
       "       width=\"24px\">\n",
       "    <path d=\"M0 0h24v24H0V0z\" fill=\"none\"/>\n",
       "    <path d=\"M18.56 5.44l.94 2.06.94-2.06 2.06-.94-2.06-.94-.94-2.06-.94 2.06-2.06.94zm-11 1L8.5 8.5l.94-2.06 2.06-.94-2.06-.94L8.5 2.5l-.94 2.06-2.06.94zm10 10l.94 2.06.94-2.06 2.06-.94-2.06-.94-.94-2.06-.94 2.06-2.06.94z\"/><path d=\"M17.41 7.96l-1.37-1.37c-.4-.4-.92-.59-1.43-.59-.52 0-1.04.2-1.43.59L10.3 9.45l-7.72 7.72c-.78.78-.78 2.05 0 2.83L4 21.41c.39.39.9.59 1.41.59.51 0 1.02-.2 1.41-.59l7.78-7.78 2.81-2.81c.8-.78.8-2.07 0-2.86zM5.41 20L4 18.59l7.72-7.72 1.47 1.35L5.41 20z\"/>\n",
       "  </svg>\n",
       "      </button>\n",
       "      \n",
       "  <style>\n",
       "    .colab-df-container {\n",
       "      display:flex;\n",
       "      flex-wrap:wrap;\n",
       "      gap: 12px;\n",
       "    }\n",
       "\n",
       "    .colab-df-convert {\n",
       "      background-color: #E8F0FE;\n",
       "      border: none;\n",
       "      border-radius: 50%;\n",
       "      cursor: pointer;\n",
       "      display: none;\n",
       "      fill: #1967D2;\n",
       "      height: 32px;\n",
       "      padding: 0 0 0 0;\n",
       "      width: 32px;\n",
       "    }\n",
       "\n",
       "    .colab-df-convert:hover {\n",
       "      background-color: #E2EBFA;\n",
       "      box-shadow: 0px 1px 2px rgba(60, 64, 67, 0.3), 0px 1px 3px 1px rgba(60, 64, 67, 0.15);\n",
       "      fill: #174EA6;\n",
       "    }\n",
       "\n",
       "    [theme=dark] .colab-df-convert {\n",
       "      background-color: #3B4455;\n",
       "      fill: #D2E3FC;\n",
       "    }\n",
       "\n",
       "    [theme=dark] .colab-df-convert:hover {\n",
       "      background-color: #434B5C;\n",
       "      box-shadow: 0px 1px 3px 1px rgba(0, 0, 0, 0.15);\n",
       "      filter: drop-shadow(0px 1px 2px rgba(0, 0, 0, 0.3));\n",
       "      fill: #FFFFFF;\n",
       "    }\n",
       "  </style>\n",
       "\n",
       "      <script>\n",
       "        const buttonEl =\n",
       "          document.querySelector('#df-82b3cc1a-d12d-4513-990f-a911a3c20a6b button.colab-df-convert');\n",
       "        buttonEl.style.display =\n",
       "          google.colab.kernel.accessAllowed ? 'block' : 'none';\n",
       "\n",
       "        async function convertToInteractive(key) {\n",
       "          const element = document.querySelector('#df-82b3cc1a-d12d-4513-990f-a911a3c20a6b');\n",
       "          const dataTable =\n",
       "            await google.colab.kernel.invokeFunction('convertToInteractive',\n",
       "                                                     [key], {});\n",
       "          if (!dataTable) return;\n",
       "\n",
       "          const docLinkHtml = 'Like what you see? Visit the ' +\n",
       "            '<a target=\"_blank\" href=https://colab.research.google.com/notebooks/data_table.ipynb>data table notebook</a>'\n",
       "            + ' to learn more about interactive tables.';\n",
       "          element.innerHTML = '';\n",
       "          dataTable['output_type'] = 'display_data';\n",
       "          await google.colab.output.renderOutput(dataTable, element);\n",
       "          const docLink = document.createElement('div');\n",
       "          docLink.innerHTML = docLinkHtml;\n",
       "          element.appendChild(docLink);\n",
       "        }\n",
       "      </script>\n",
       "    </div>\n",
       "  </div>\n",
       "  "
      ],
      "text/plain": [
       "   Unnamed: 0                                         Hotel Name  \\\n",
       "0           2                             D Carol Hotel Surabaya   \n",
       "1           3                                  Choice City Hotel   \n",
       "2           4                          G Suites Hotel By AMITHYA   \n",
       "3           5  Royal Regantris Cendana formerly Royal Singosa...   \n",
       "4           6                       Livinn Taman Melati Surabaya   \n",
       "\n",
       "  Tipe Properti                City  \\\n",
       "0         Hotel    Bubutan Surabaya   \n",
       "1         Hotel    Bubutan Surabaya   \n",
       "2         Hotel     Gubeng Surabaya   \n",
       "3         Hotel  Tegalsari Surabaya   \n",
       "4         Hotel  Mulyorejo Surabaya   \n",
       "\n",
       "                                             Address Hotel Rating     Min  \\\n",
       "0  Jl. Gundih No. 8. Gundih. Kec. Bubutan. Kota S...          4.2  195000   \n",
       "1  Bubutan. Surabaya City. East Java 60174. Indon...          4.4  269997   \n",
       "2  Jl. Raya Gubeng No.43. Gubeng. Kec. Gubeng. Ko...          4.0  343000   \n",
       "3  Jl. Kombes Pol. Moh. Duryat No.6. Tegalsari. K...          4.3  389996   \n",
       "4  Jl. Mulyorejo Utara No.201. RT.006/RW.001. Mul...          4.1  224999   \n",
       "\n",
       "       Max  Lattitute   Longitude  \n",
       "0   224250  -7.247228  112.729460  \n",
       "1   374996  -7.255990  112.733686  \n",
       "2  2254000  -7.273623  112.747475  \n",
       "3  1199988  -7.268379  112.739621  \n",
       "4   249999  -7.261569  112.785470  "
      ]
     },
     "execution_count": 40,
     "metadata": {},
     "output_type": "execute_result"
    }
   ],
   "source": [
    "df1.head()"
   ]
  },
  {
   "cell_type": "code",
   "execution_count": null,
   "metadata": {
    "id": "ZYJV1VrYMzjA"
   },
   "outputs": [],
   "source": []
  }
 ],
 "metadata": {
  "colab": {
   "provenance": []
  },
  "kernelspec": {
   "display_name": "Python 3 (ipykernel)",
   "language": "python",
   "name": "python3"
  },
  "language_info": {
   "codemirror_mode": {
    "name": "ipython",
    "version": 3
   },
   "file_extension": ".py",
   "mimetype": "text/x-python",
   "name": "python",
   "nbconvert_exporter": "python",
   "pygments_lexer": "ipython3",
   "version": "3.10.9"
  }
 },
 "nbformat": 4,
 "nbformat_minor": 1
}
